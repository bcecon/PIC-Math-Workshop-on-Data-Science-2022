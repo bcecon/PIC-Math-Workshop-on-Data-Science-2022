{
 "cells": [
  {
   "cell_type": "markdown",
   "metadata": {},
   "source": [
    "# Loading packages"
   ]
  },
  {
   "cell_type": "code",
   "execution_count": 80,
   "metadata": {
    "collapsed": false
   },
   "outputs": [],
   "source": [
    "import numpy as np\n",
    "import matplotlib.pylab as py\n",
    "import pandas as pa\n",
    "import scipy.stats as st\n",
    "np.set_printoptions(precision=2)\n",
    "%matplotlib inline"
   ]
  },
  {
   "cell_type": "markdown",
   "metadata": {},
   "source": [
    "# Discrete Random Variables"
   ]
  },
  {
   "cell_type": "markdown",
   "metadata": {},
   "source": [
    "In this section we show a few example of discrete random variables using Python."
   ]
  },
  {
   "cell_type": "markdown",
   "metadata": {},
   "source": [
    "The documentation for these routines can be found at:\n",
    "\n",
    "http://docs.scipy.org/doc/scipy-0.14.0/reference/stats.html"
   ]
  },
  {
   "cell_type": "code",
   "execution_count": 81,
   "metadata": {
    "collapsed": false
   },
   "outputs": [
    {
     "data": {
      "text/plain": [
       "array([0, 0, 1, 0, 1, 1, 0, 0, 1, 1, 0, 0, 0, 0, 0, 0, 1, 1, 1, 0, 0, 1, 0,\n",
       "       0, 0, 0, 0, 0, 1, 0, 0, 0, 1, 1, 1, 1, 1, 0, 0, 1, 0, 0, 1, 1, 0, 1,\n",
       "       0, 0, 1, 0, 0, 0, 0, 0, 0, 0, 1, 0, 1, 0, 1, 0, 1, 0, 1, 0, 1, 1, 1,\n",
       "       0, 0, 0, 0, 0, 1, 1, 1, 1, 0, 0, 1, 0, 0, 1, 1, 1, 0, 1, 0, 0, 0, 1,\n",
       "       1, 0, 0, 0, 0, 1, 1, 0])"
      ]
     },
     "execution_count": 81,
     "metadata": {},
     "output_type": "execute_result"
    }
   ],
   "source": [
    "X=st.bernoulli(p=0.3)\n",
    "X.rvs(100)"
   ]
  },
  {
   "cell_type": "code",
   "execution_count": 82,
   "metadata": {
    "collapsed": false
   },
   "outputs": [
    {
     "data": {
      "text/plain": [
       "array([4, 3, 2, 2, 2, 1, 4, 3, 4, 1, 2, 4, 2, 2, 2, 3, 1, 4, 1, 3, 1, 2, 1,\n",
       "       1, 1, 2, 4, 4, 2, 4, 3, 2, 2, 2, 2, 4, 2, 3, 1, 4, 2, 1, 1, 2, 2, 1,\n",
       "       1, 4, 3, 4, 1, 1, 2, 1, 3, 3, 1, 3, 1, 2, 2, 4, 4, 1, 3, 4, 2, 2, 1,\n",
       "       1, 1, 4, 4, 3, 2, 4, 4, 4, 4, 2, 1, 4, 2, 3, 2, 1, 1, 1, 2, 2, 4, 4,\n",
       "       1, 2, 1, 2, 3, 1, 4, 3])"
      ]
     },
     "execution_count": 82,
     "metadata": {},
     "output_type": "execute_result"
    }
   ],
   "source": [
    "# Note that \"high\" is not included.\n",
    "X=st.randint(low=1,high=5)\n",
    "X.rvs(100)"
   ]
  },
  {
   "cell_type": "markdown",
   "metadata": {},
   "source": [
    "# Continuous Random Variables"
   ]
  },
  {
   "cell_type": "markdown",
   "metadata": {},
   "source": [
    "The documentation for these routines can be found at:\n",
    "\n",
    "http://docs.scipy.org/doc/scipy-0.14.0/reference/stats.html"
   ]
  },
  {
   "cell_type": "code",
   "execution_count": 86,
   "metadata": {
    "collapsed": false
   },
   "outputs": [
    {
     "data": {
      "text/plain": [
       "[<matplotlib.lines.Line2D at 0x2103eda0>]"
      ]
     },
     "execution_count": 86,
     "metadata": {},
     "output_type": "execute_result"
    },
    {
     "data": {
      "image/png": "[encoded data removed]",
      "text/plain": [
       "<matplotlib.figure.Figure at 0x11f82898>"
      ]
     },
     "metadata": {},
     "output_type": "display_data"
    }
   ],
   "source": [
    "XUniform=st.uniform(loc=0.7,scale=0.3);\n",
    "# \"bins\" tells you how many bars to use\n",
    "# \"normed\" says to turn the counts into probability densities\n",
    "py.hist(XUniform.rvs(1000000),bins=20,normed=True);\n",
    "x = np.linspace(-0.1,1.1,100)\n",
    "py.plot(x,XUniform.pdf(x))\n",
    "#py.savefig('Figures/uniformPDF.png')"
   ]
  },
  {
   "cell_type": "code",
   "execution_count": 87,
   "metadata": {
    "collapsed": false
   },
   "outputs": [
    {
     "data": {
      "image/png": "[encoded data removed]",
      "text/plain": [
       "<matplotlib.figure.Figure at 0x11193b00>"
      ]
     },
     "metadata": {},
     "output_type": "display_data"
    }
   ],
   "source": [
    "py.plot(XUniform.cdf(x))\n",
    "py.savefig('Figures/uniformCDF.png')"
   ]
  },
  {
   "cell_type": "code",
   "execution_count": 93,
   "metadata": {
    "collapsed": false
   },
   "outputs": [
    {
     "data": {
      "text/plain": [
       "[<matplotlib.lines.Line2D at 0x21e776a0>]"
      ]
     },
     "execution_count": 93,
     "metadata": {},
     "output_type": "execute_result"
    },
    {
     "data": {
      "image/png": "[encoded data removed]",
      "text/plain": [
       "<matplotlib.figure.Figure at 0x1b1920f0>"
      ]
     },
     "metadata": {},
     "output_type": "display_data"
    }
   ],
   "source": [
    "XNormal=st.norm(loc=0,scale=1);\n",
    "# \"bins\" tells you how many bars to use\n",
    "# \"normed\" says to turn the counts into probability densities\n",
    "py.hist(XNormal.rvs(1000),bins=100,normed=True);\n",
    "x = np.linspace(-3,3,100)\n",
    "py.plot(x,XNormal.pdf(x))\n",
    "#py.savefig('Figures/normalPDF.png')"
   ]
  },
  {
   "cell_type": "markdown",
   "metadata": {},
   "source": [
    "http://en.wikipedia.org/wiki/Carl_Friedrich_Gauss"
   ]
  },
  {
   "cell_type": "code",
   "execution_count": 94,
   "metadata": {
    "collapsed": false
   },
   "outputs": [
    {
     "data": {
      "image/png": "[encoded data removed]",
      "text/plain": [
       "<matplotlib.figure.Figure at 0x23a110b8>"
      ]
     },
     "metadata": {},
     "output_type": "display_data"
    }
   ],
   "source": [
    "py.plot(XNormal.cdf(x))\n",
    "py.savefig('Figures/normalCDF.png')"
   ]
  },
  {
   "cell_type": "markdown",
   "metadata": {},
   "source": [
    "Now we can look at the histograms of some of our data from Case Study 2."
   ]
  },
  {
   "cell_type": "code",
   "execution_count": 95,
   "metadata": {
    "collapsed": false
   },
   "outputs": [],
   "source": [
    "data = pa.read_hdf('data.h5','movies')"
   ]
  },
  {
   "cell_type": "code",
   "execution_count": 96,
   "metadata": {
    "collapsed": false,
    "scrolled": true
   },
   "outputs": [
    {
     "data": {
      "text/html": [
       "<div>\n",
       "<table border=\"1\" class=\"dataframe\">\n",
       "  <thead>\n",
       "    <tr style=\"text-align: right;\">\n",
       "      <th></th>\n",
       "      <th>user_id</th>\n",
       "      <th>movie_id</th>\n",
       "      <th>rating</th>\n",
       "      <th>timestamp</th>\n",
       "      <th>gender</th>\n",
       "      <th>age</th>\n",
       "      <th>occupation</th>\n",
       "      <th>zip</th>\n",
       "      <th>title</th>\n",
       "      <th>genres</th>\n",
       "    </tr>\n",
       "  </thead>\n",
       "  <tbody>\n",
       "    <tr>\n",
       "      <th>0</th>\n",
       "      <td>1</td>\n",
       "      <td>1193</td>\n",
       "      <td>5</td>\n",
       "      <td>978300760</td>\n",
       "      <td>F</td>\n",
       "      <td>1</td>\n",
       "      <td>10</td>\n",
       "      <td>48067</td>\n",
       "      <td>One Flew Over the Cuckoo's Nest (1975)</td>\n",
       "      <td>Drama</td>\n",
       "    </tr>\n",
       "    <tr>\n",
       "      <th>1</th>\n",
       "      <td>2</td>\n",
       "      <td>1193</td>\n",
       "      <td>5</td>\n",
       "      <td>978298413</td>\n",
       "      <td>M</td>\n",
       "      <td>56</td>\n",
       "      <td>16</td>\n",
       "      <td>70072</td>\n",
       "      <td>One Flew Over the Cuckoo's Nest (1975)</td>\n",
       "      <td>Drama</td>\n",
       "    </tr>\n",
       "    <tr>\n",
       "      <th>2</th>\n",
       "      <td>12</td>\n",
       "      <td>1193</td>\n",
       "      <td>4</td>\n",
       "      <td>978220179</td>\n",
       "      <td>M</td>\n",
       "      <td>25</td>\n",
       "      <td>12</td>\n",
       "      <td>32793</td>\n",
       "      <td>One Flew Over the Cuckoo's Nest (1975)</td>\n",
       "      <td>Drama</td>\n",
       "    </tr>\n",
       "    <tr>\n",
       "      <th>3</th>\n",
       "      <td>15</td>\n",
       "      <td>1193</td>\n",
       "      <td>4</td>\n",
       "      <td>978199279</td>\n",
       "      <td>M</td>\n",
       "      <td>25</td>\n",
       "      <td>7</td>\n",
       "      <td>22903</td>\n",
       "      <td>One Flew Over the Cuckoo's Nest (1975)</td>\n",
       "      <td>Drama</td>\n",
       "    </tr>\n",
       "    <tr>\n",
       "      <th>4</th>\n",
       "      <td>17</td>\n",
       "      <td>1193</td>\n",
       "      <td>5</td>\n",
       "      <td>978158471</td>\n",
       "      <td>M</td>\n",
       "      <td>50</td>\n",
       "      <td>1</td>\n",
       "      <td>95350</td>\n",
       "      <td>One Flew Over the Cuckoo's Nest (1975)</td>\n",
       "      <td>Drama</td>\n",
       "    </tr>\n",
       "    <tr>\n",
       "      <th>5</th>\n",
       "      <td>18</td>\n",
       "      <td>1193</td>\n",
       "      <td>4</td>\n",
       "      <td>978156168</td>\n",
       "      <td>F</td>\n",
       "      <td>18</td>\n",
       "      <td>3</td>\n",
       "      <td>95825</td>\n",
       "      <td>One Flew Over the Cuckoo's Nest (1975)</td>\n",
       "      <td>Drama</td>\n",
       "    </tr>\n",
       "    <tr>\n",
       "      <th>6</th>\n",
       "      <td>19</td>\n",
       "      <td>1193</td>\n",
       "      <td>5</td>\n",
       "      <td>982730936</td>\n",
       "      <td>M</td>\n",
       "      <td>1</td>\n",
       "      <td>10</td>\n",
       "      <td>48073</td>\n",
       "      <td>One Flew Over the Cuckoo's Nest (1975)</td>\n",
       "      <td>Drama</td>\n",
       "    </tr>\n",
       "    <tr>\n",
       "      <th>7</th>\n",
       "      <td>24</td>\n",
       "      <td>1193</td>\n",
       "      <td>5</td>\n",
       "      <td>978136709</td>\n",
       "      <td>F</td>\n",
       "      <td>25</td>\n",
       "      <td>7</td>\n",
       "      <td>10023</td>\n",
       "      <td>One Flew Over the Cuckoo's Nest (1975)</td>\n",
       "      <td>Drama</td>\n",
       "    </tr>\n",
       "    <tr>\n",
       "      <th>8</th>\n",
       "      <td>28</td>\n",
       "      <td>1193</td>\n",
       "      <td>3</td>\n",
       "      <td>978125194</td>\n",
       "      <td>F</td>\n",
       "      <td>25</td>\n",
       "      <td>1</td>\n",
       "      <td>14607</td>\n",
       "      <td>One Flew Over the Cuckoo's Nest (1975)</td>\n",
       "      <td>Drama</td>\n",
       "    </tr>\n",
       "    <tr>\n",
       "      <th>9</th>\n",
       "      <td>33</td>\n",
       "      <td>1193</td>\n",
       "      <td>5</td>\n",
       "      <td>978557765</td>\n",
       "      <td>M</td>\n",
       "      <td>45</td>\n",
       "      <td>3</td>\n",
       "      <td>55421</td>\n",
       "      <td>One Flew Over the Cuckoo's Nest (1975)</td>\n",
       "      <td>Drama</td>\n",
       "    </tr>\n",
       "    <tr>\n",
       "      <th>10</th>\n",
       "      <td>39</td>\n",
       "      <td>1193</td>\n",
       "      <td>5</td>\n",
       "      <td>978043535</td>\n",
       "      <td>M</td>\n",
       "      <td>18</td>\n",
       "      <td>4</td>\n",
       "      <td>61820</td>\n",
       "      <td>One Flew Over the Cuckoo's Nest (1975)</td>\n",
       "      <td>Drama</td>\n",
       "    </tr>\n",
       "    <tr>\n",
       "      <th>11</th>\n",
       "      <td>42</td>\n",
       "      <td>1193</td>\n",
       "      <td>3</td>\n",
       "      <td>978038981</td>\n",
       "      <td>M</td>\n",
       "      <td>25</td>\n",
       "      <td>8</td>\n",
       "      <td>24502</td>\n",
       "      <td>One Flew Over the Cuckoo's Nest (1975)</td>\n",
       "      <td>Drama</td>\n",
       "    </tr>\n",
       "    <tr>\n",
       "      <th>12</th>\n",
       "      <td>44</td>\n",
       "      <td>1193</td>\n",
       "      <td>4</td>\n",
       "      <td>978018995</td>\n",
       "      <td>M</td>\n",
       "      <td>45</td>\n",
       "      <td>17</td>\n",
       "      <td>98052</td>\n",
       "      <td>One Flew Over the Cuckoo's Nest (1975)</td>\n",
       "      <td>Drama</td>\n",
       "    </tr>\n",
       "    <tr>\n",
       "      <th>13</th>\n",
       "      <td>47</td>\n",
       "      <td>1193</td>\n",
       "      <td>4</td>\n",
       "      <td>977978345</td>\n",
       "      <td>M</td>\n",
       "      <td>18</td>\n",
       "      <td>4</td>\n",
       "      <td>94305</td>\n",
       "      <td>One Flew Over the Cuckoo's Nest (1975)</td>\n",
       "      <td>Drama</td>\n",
       "    </tr>\n",
       "    <tr>\n",
       "      <th>14</th>\n",
       "      <td>48</td>\n",
       "      <td>1193</td>\n",
       "      <td>4</td>\n",
       "      <td>977975061</td>\n",
       "      <td>M</td>\n",
       "      <td>25</td>\n",
       "      <td>4</td>\n",
       "      <td>92107</td>\n",
       "      <td>One Flew Over the Cuckoo's Nest (1975)</td>\n",
       "      <td>Drama</td>\n",
       "    </tr>\n",
       "    <tr>\n",
       "      <th>15</th>\n",
       "      <td>49</td>\n",
       "      <td>1193</td>\n",
       "      <td>4</td>\n",
       "      <td>978813972</td>\n",
       "      <td>M</td>\n",
       "      <td>18</td>\n",
       "      <td>12</td>\n",
       "      <td>77084</td>\n",
       "      <td>One Flew Over the Cuckoo's Nest (1975)</td>\n",
       "      <td>Drama</td>\n",
       "    </tr>\n",
       "    <tr>\n",
       "      <th>16</th>\n",
       "      <td>53</td>\n",
       "      <td>1193</td>\n",
       "      <td>5</td>\n",
       "      <td>977946400</td>\n",
       "      <td>M</td>\n",
       "      <td>25</td>\n",
       "      <td>0</td>\n",
       "      <td>96931</td>\n",
       "      <td>One Flew Over the Cuckoo's Nest (1975)</td>\n",
       "      <td>Drama</td>\n",
       "    </tr>\n",
       "    <tr>\n",
       "      <th>17</th>\n",
       "      <td>54</td>\n",
       "      <td>1193</td>\n",
       "      <td>5</td>\n",
       "      <td>977944039</td>\n",
       "      <td>M</td>\n",
       "      <td>50</td>\n",
       "      <td>1</td>\n",
       "      <td>56723</td>\n",
       "      <td>One Flew Over the Cuckoo's Nest (1975)</td>\n",
       "      <td>Drama</td>\n",
       "    </tr>\n",
       "    <tr>\n",
       "      <th>18</th>\n",
       "      <td>58</td>\n",
       "      <td>1193</td>\n",
       "      <td>5</td>\n",
       "      <td>977933866</td>\n",
       "      <td>M</td>\n",
       "      <td>25</td>\n",
       "      <td>2</td>\n",
       "      <td>30303</td>\n",
       "      <td>One Flew Over the Cuckoo's Nest (1975)</td>\n",
       "      <td>Drama</td>\n",
       "    </tr>\n",
       "    <tr>\n",
       "      <th>19</th>\n",
       "      <td>59</td>\n",
       "      <td>1193</td>\n",
       "      <td>4</td>\n",
       "      <td>977934292</td>\n",
       "      <td>F</td>\n",
       "      <td>50</td>\n",
       "      <td>1</td>\n",
       "      <td>55413</td>\n",
       "      <td>One Flew Over the Cuckoo's Nest (1975)</td>\n",
       "      <td>Drama</td>\n",
       "    </tr>\n",
       "    <tr>\n",
       "      <th>20</th>\n",
       "      <td>62</td>\n",
       "      <td>1193</td>\n",
       "      <td>4</td>\n",
       "      <td>977968584</td>\n",
       "      <td>F</td>\n",
       "      <td>35</td>\n",
       "      <td>3</td>\n",
       "      <td>98105</td>\n",
       "      <td>One Flew Over the Cuckoo's Nest (1975)</td>\n",
       "      <td>Drama</td>\n",
       "    </tr>\n",
       "    <tr>\n",
       "      <th>21</th>\n",
       "      <td>80</td>\n",
       "      <td>1193</td>\n",
       "      <td>4</td>\n",
       "      <td>977786172</td>\n",
       "      <td>M</td>\n",
       "      <td>56</td>\n",
       "      <td>1</td>\n",
       "      <td>49327</td>\n",
       "      <td>One Flew Over the Cuckoo's Nest (1975)</td>\n",
       "      <td>Drama</td>\n",
       "    </tr>\n",
       "    <tr>\n",
       "      <th>22</th>\n",
       "      <td>81</td>\n",
       "      <td>1193</td>\n",
       "      <td>5</td>\n",
       "      <td>977785864</td>\n",
       "      <td>F</td>\n",
       "      <td>25</td>\n",
       "      <td>0</td>\n",
       "      <td>60640</td>\n",
       "      <td>One Flew Over the Cuckoo's Nest (1975)</td>\n",
       "      <td>Drama</td>\n",
       "    </tr>\n",
       "    <tr>\n",
       "      <th>23</th>\n",
       "      <td>88</td>\n",
       "      <td>1193</td>\n",
       "      <td>5</td>\n",
       "      <td>977694161</td>\n",
       "      <td>F</td>\n",
       "      <td>45</td>\n",
       "      <td>1</td>\n",
       "      <td>02476</td>\n",
       "      <td>One Flew Over the Cuckoo's Nest (1975)</td>\n",
       "      <td>Drama</td>\n",
       "    </tr>\n",
       "    <tr>\n",
       "      <th>24</th>\n",
       "      <td>89</td>\n",
       "      <td>1193</td>\n",
       "      <td>5</td>\n",
       "      <td>977683596</td>\n",
       "      <td>F</td>\n",
       "      <td>56</td>\n",
       "      <td>9</td>\n",
       "      <td>85749</td>\n",
       "      <td>One Flew Over the Cuckoo's Nest (1975)</td>\n",
       "      <td>Drama</td>\n",
       "    </tr>\n",
       "    <tr>\n",
       "      <th>25</th>\n",
       "      <td>95</td>\n",
       "      <td>1193</td>\n",
       "      <td>5</td>\n",
       "      <td>977626632</td>\n",
       "      <td>M</td>\n",
       "      <td>45</td>\n",
       "      <td>0</td>\n",
       "      <td>98201</td>\n",
       "      <td>One Flew Over the Cuckoo's Nest (1975)</td>\n",
       "      <td>Drama</td>\n",
       "    </tr>\n",
       "    <tr>\n",
       "      <th>26</th>\n",
       "      <td>96</td>\n",
       "      <td>1193</td>\n",
       "      <td>3</td>\n",
       "      <td>977621789</td>\n",
       "      <td>F</td>\n",
       "      <td>25</td>\n",
       "      <td>16</td>\n",
       "      <td>78028</td>\n",
       "      <td>One Flew Over the Cuckoo's Nest (1975)</td>\n",
       "      <td>Drama</td>\n",
       "    </tr>\n",
       "    <tr>\n",
       "      <th>27</th>\n",
       "      <td>99</td>\n",
       "      <td>1193</td>\n",
       "      <td>2</td>\n",
       "      <td>982791053</td>\n",
       "      <td>F</td>\n",
       "      <td>1</td>\n",
       "      <td>10</td>\n",
       "      <td>19390</td>\n",
       "      <td>One Flew Over the Cuckoo's Nest (1975)</td>\n",
       "      <td>Drama</td>\n",
       "    </tr>\n",
       "    <tr>\n",
       "      <th>28</th>\n",
       "      <td>102</td>\n",
       "      <td>1193</td>\n",
       "      <td>5</td>\n",
       "      <td>1040737607</td>\n",
       "      <td>M</td>\n",
       "      <td>35</td>\n",
       "      <td>19</td>\n",
       "      <td>20871</td>\n",
       "      <td>One Flew Over the Cuckoo's Nest (1975)</td>\n",
       "      <td>Drama</td>\n",
       "    </tr>\n",
       "    <tr>\n",
       "      <th>29</th>\n",
       "      <td>104</td>\n",
       "      <td>1193</td>\n",
       "      <td>2</td>\n",
       "      <td>977546620</td>\n",
       "      <td>M</td>\n",
       "      <td>25</td>\n",
       "      <td>12</td>\n",
       "      <td>00926</td>\n",
       "      <td>One Flew Over the Cuckoo's Nest (1975)</td>\n",
       "      <td>Drama</td>\n",
       "    </tr>\n",
       "    <tr>\n",
       "      <th>...</th>\n",
       "      <td>...</td>\n",
       "      <td>...</td>\n",
       "      <td>...</td>\n",
       "      <td>...</td>\n",
       "      <td>...</td>\n",
       "      <td>...</td>\n",
       "      <td>...</td>\n",
       "      <td>...</td>\n",
       "      <td>...</td>\n",
       "      <td>...</td>\n",
       "    </tr>\n",
       "    <tr>\n",
       "      <th>1000179</th>\n",
       "      <td>4933</td>\n",
       "      <td>3084</td>\n",
       "      <td>3</td>\n",
       "      <td>962757020</td>\n",
       "      <td>M</td>\n",
       "      <td>25</td>\n",
       "      <td>15</td>\n",
       "      <td>94040</td>\n",
       "      <td>Home Page (1999)</td>\n",
       "      <td>Documentary</td>\n",
       "    </tr>\n",
       "    <tr>\n",
       "      <th>1000180</th>\n",
       "      <td>4802</td>\n",
       "      <td>2218</td>\n",
       "      <td>2</td>\n",
       "      <td>1014866656</td>\n",
       "      <td>M</td>\n",
       "      <td>56</td>\n",
       "      <td>1</td>\n",
       "      <td>40601</td>\n",
       "      <td>Juno and Paycock (1930)</td>\n",
       "      <td>Drama</td>\n",
       "    </tr>\n",
       "    <tr>\n",
       "      <th>1000181</th>\n",
       "      <td>4812</td>\n",
       "      <td>2308</td>\n",
       "      <td>2</td>\n",
       "      <td>962932391</td>\n",
       "      <td>M</td>\n",
       "      <td>18</td>\n",
       "      <td>14</td>\n",
       "      <td>25301</td>\n",
       "      <td>Detroit 9000 (1973)</td>\n",
       "      <td>Action|Crime</td>\n",
       "    </tr>\n",
       "    <tr>\n",
       "      <th>1000182</th>\n",
       "      <td>4874</td>\n",
       "      <td>624</td>\n",
       "      <td>4</td>\n",
       "      <td>962781918</td>\n",
       "      <td>F</td>\n",
       "      <td>25</td>\n",
       "      <td>4</td>\n",
       "      <td>70808</td>\n",
       "      <td>Condition Red (1995)</td>\n",
       "      <td>Action|Drama|Thriller</td>\n",
       "    </tr>\n",
       "    <tr>\n",
       "      <th>1000183</th>\n",
       "      <td>5059</td>\n",
       "      <td>1434</td>\n",
       "      <td>4</td>\n",
       "      <td>962484364</td>\n",
       "      <td>M</td>\n",
       "      <td>45</td>\n",
       "      <td>16</td>\n",
       "      <td>22652</td>\n",
       "      <td>Stranger, The (1994)</td>\n",
       "      <td>Action</td>\n",
       "    </tr>\n",
       "    <tr>\n",
       "      <th>1000184</th>\n",
       "      <td>5947</td>\n",
       "      <td>1434</td>\n",
       "      <td>4</td>\n",
       "      <td>957190428</td>\n",
       "      <td>F</td>\n",
       "      <td>45</td>\n",
       "      <td>16</td>\n",
       "      <td>97215</td>\n",
       "      <td>Stranger, The (1994)</td>\n",
       "      <td>Action</td>\n",
       "    </tr>\n",
       "    <tr>\n",
       "      <th>1000185</th>\n",
       "      <td>5077</td>\n",
       "      <td>1868</td>\n",
       "      <td>3</td>\n",
       "      <td>962417299</td>\n",
       "      <td>M</td>\n",
       "      <td>25</td>\n",
       "      <td>2</td>\n",
       "      <td>20037</td>\n",
       "      <td>Truce, The (1996)</td>\n",
       "      <td>Drama|War</td>\n",
       "    </tr>\n",
       "    <tr>\n",
       "      <th>1000186</th>\n",
       "      <td>5944</td>\n",
       "      <td>1868</td>\n",
       "      <td>1</td>\n",
       "      <td>957197520</td>\n",
       "      <td>F</td>\n",
       "      <td>18</td>\n",
       "      <td>10</td>\n",
       "      <td>27606</td>\n",
       "      <td>Truce, The (1996)</td>\n",
       "      <td>Drama|War</td>\n",
       "    </tr>\n",
       "    <tr>\n",
       "      <th>1000187</th>\n",
       "      <td>5105</td>\n",
       "      <td>404</td>\n",
       "      <td>3</td>\n",
       "      <td>962337582</td>\n",
       "      <td>M</td>\n",
       "      <td>50</td>\n",
       "      <td>7</td>\n",
       "      <td>18977</td>\n",
       "      <td>Brother Minister: The Assassination of Malcolm...</td>\n",
       "      <td>Documentary</td>\n",
       "    </tr>\n",
       "    <tr>\n",
       "      <th>1000188</th>\n",
       "      <td>5185</td>\n",
       "      <td>404</td>\n",
       "      <td>4</td>\n",
       "      <td>963402617</td>\n",
       "      <td>F</td>\n",
       "      <td>35</td>\n",
       "      <td>4</td>\n",
       "      <td>44485</td>\n",
       "      <td>Brother Minister: The Assassination of Malcolm...</td>\n",
       "      <td>Documentary</td>\n",
       "    </tr>\n",
       "    <tr>\n",
       "      <th>1000189</th>\n",
       "      <td>5532</td>\n",
       "      <td>404</td>\n",
       "      <td>5</td>\n",
       "      <td>959619841</td>\n",
       "      <td>M</td>\n",
       "      <td>25</td>\n",
       "      <td>17</td>\n",
       "      <td>27408</td>\n",
       "      <td>Brother Minister: The Assassination of Malcolm...</td>\n",
       "      <td>Documentary</td>\n",
       "    </tr>\n",
       "    <tr>\n",
       "      <th>1000190</th>\n",
       "      <td>5543</td>\n",
       "      <td>404</td>\n",
       "      <td>3</td>\n",
       "      <td>960127592</td>\n",
       "      <td>M</td>\n",
       "      <td>25</td>\n",
       "      <td>17</td>\n",
       "      <td>97401</td>\n",
       "      <td>Brother Minister: The Assassination of Malcolm...</td>\n",
       "      <td>Documentary</td>\n",
       "    </tr>\n",
       "    <tr>\n",
       "      <th>1000191</th>\n",
       "      <td>5220</td>\n",
       "      <td>2543</td>\n",
       "      <td>3</td>\n",
       "      <td>961546137</td>\n",
       "      <td>M</td>\n",
       "      <td>25</td>\n",
       "      <td>7</td>\n",
       "      <td>91436</td>\n",
       "      <td>Six Ways to Sunday (1997)</td>\n",
       "      <td>Comedy</td>\n",
       "    </tr>\n",
       "    <tr>\n",
       "      <th>1000192</th>\n",
       "      <td>5754</td>\n",
       "      <td>2543</td>\n",
       "      <td>4</td>\n",
       "      <td>958272316</td>\n",
       "      <td>F</td>\n",
       "      <td>18</td>\n",
       "      <td>1</td>\n",
       "      <td>60640</td>\n",
       "      <td>Six Ways to Sunday (1997)</td>\n",
       "      <td>Comedy</td>\n",
       "    </tr>\n",
       "    <tr>\n",
       "      <th>1000193</th>\n",
       "      <td>5227</td>\n",
       "      <td>591</td>\n",
       "      <td>3</td>\n",
       "      <td>961475931</td>\n",
       "      <td>M</td>\n",
       "      <td>18</td>\n",
       "      <td>10</td>\n",
       "      <td>64050</td>\n",
       "      <td>Tough and Deadly (1995)</td>\n",
       "      <td>Action|Drama|Thriller</td>\n",
       "    </tr>\n",
       "    <tr>\n",
       "      <th>1000194</th>\n",
       "      <td>5795</td>\n",
       "      <td>591</td>\n",
       "      <td>1</td>\n",
       "      <td>958145253</td>\n",
       "      <td>M</td>\n",
       "      <td>25</td>\n",
       "      <td>1</td>\n",
       "      <td>92688</td>\n",
       "      <td>Tough and Deadly (1995)</td>\n",
       "      <td>Action|Drama|Thriller</td>\n",
       "    </tr>\n",
       "    <tr>\n",
       "      <th>1000195</th>\n",
       "      <td>5313</td>\n",
       "      <td>3656</td>\n",
       "      <td>5</td>\n",
       "      <td>960920392</td>\n",
       "      <td>M</td>\n",
       "      <td>56</td>\n",
       "      <td>0</td>\n",
       "      <td>55406</td>\n",
       "      <td>Lured (1947)</td>\n",
       "      <td>Crime</td>\n",
       "    </tr>\n",
       "    <tr>\n",
       "      <th>1000196</th>\n",
       "      <td>5328</td>\n",
       "      <td>2438</td>\n",
       "      <td>4</td>\n",
       "      <td>960838075</td>\n",
       "      <td>F</td>\n",
       "      <td>25</td>\n",
       "      <td>4</td>\n",
       "      <td>91740</td>\n",
       "      <td>Outside Ozona (1998)</td>\n",
       "      <td>Drama|Thriller</td>\n",
       "    </tr>\n",
       "    <tr>\n",
       "      <th>1000197</th>\n",
       "      <td>5334</td>\n",
       "      <td>3323</td>\n",
       "      <td>3</td>\n",
       "      <td>960796159</td>\n",
       "      <td>F</td>\n",
       "      <td>56</td>\n",
       "      <td>13</td>\n",
       "      <td>46140</td>\n",
       "      <td>Chain of Fools (2000)</td>\n",
       "      <td>Comedy|Crime</td>\n",
       "    </tr>\n",
       "    <tr>\n",
       "      <th>1000198</th>\n",
       "      <td>5334</td>\n",
       "      <td>127</td>\n",
       "      <td>1</td>\n",
       "      <td>960795494</td>\n",
       "      <td>F</td>\n",
       "      <td>56</td>\n",
       "      <td>13</td>\n",
       "      <td>46140</td>\n",
       "      <td>Silence of the Palace, The (Saimt el Qusur) (1...</td>\n",
       "      <td>Drama</td>\n",
       "    </tr>\n",
       "    <tr>\n",
       "      <th>1000199</th>\n",
       "      <td>5334</td>\n",
       "      <td>3382</td>\n",
       "      <td>5</td>\n",
       "      <td>960796159</td>\n",
       "      <td>F</td>\n",
       "      <td>56</td>\n",
       "      <td>13</td>\n",
       "      <td>46140</td>\n",
       "      <td>Song of Freedom (1936)</td>\n",
       "      <td>Drama</td>\n",
       "    </tr>\n",
       "    <tr>\n",
       "      <th>1000200</th>\n",
       "      <td>5420</td>\n",
       "      <td>1843</td>\n",
       "      <td>3</td>\n",
       "      <td>960156505</td>\n",
       "      <td>F</td>\n",
       "      <td>1</td>\n",
       "      <td>19</td>\n",
       "      <td>14850</td>\n",
       "      <td>Slappy and the Stinkers (1998)</td>\n",
       "      <td>Children's|Comedy</td>\n",
       "    </tr>\n",
       "    <tr>\n",
       "      <th>1000201</th>\n",
       "      <td>5433</td>\n",
       "      <td>286</td>\n",
       "      <td>3</td>\n",
       "      <td>960240881</td>\n",
       "      <td>F</td>\n",
       "      <td>35</td>\n",
       "      <td>17</td>\n",
       "      <td>45014</td>\n",
       "      <td>Nemesis 2: Nebula (1995)</td>\n",
       "      <td>Action|Sci-Fi|Thriller</td>\n",
       "    </tr>\n",
       "    <tr>\n",
       "      <th>1000202</th>\n",
       "      <td>5494</td>\n",
       "      <td>3530</td>\n",
       "      <td>4</td>\n",
       "      <td>959816296</td>\n",
       "      <td>F</td>\n",
       "      <td>35</td>\n",
       "      <td>17</td>\n",
       "      <td>94306</td>\n",
       "      <td>Smoking/No Smoking (1993)</td>\n",
       "      <td>Comedy</td>\n",
       "    </tr>\n",
       "    <tr>\n",
       "      <th>1000203</th>\n",
       "      <td>5556</td>\n",
       "      <td>2198</td>\n",
       "      <td>3</td>\n",
       "      <td>959445515</td>\n",
       "      <td>M</td>\n",
       "      <td>45</td>\n",
       "      <td>6</td>\n",
       "      <td>92103</td>\n",
       "      <td>Modulations (1998)</td>\n",
       "      <td>Documentary</td>\n",
       "    </tr>\n",
       "    <tr>\n",
       "      <th>1000204</th>\n",
       "      <td>5949</td>\n",
       "      <td>2198</td>\n",
       "      <td>5</td>\n",
       "      <td>958846401</td>\n",
       "      <td>M</td>\n",
       "      <td>18</td>\n",
       "      <td>17</td>\n",
       "      <td>47901</td>\n",
       "      <td>Modulations (1998)</td>\n",
       "      <td>Documentary</td>\n",
       "    </tr>\n",
       "    <tr>\n",
       "      <th>1000205</th>\n",
       "      <td>5675</td>\n",
       "      <td>2703</td>\n",
       "      <td>3</td>\n",
       "      <td>976029116</td>\n",
       "      <td>M</td>\n",
       "      <td>35</td>\n",
       "      <td>14</td>\n",
       "      <td>30030</td>\n",
       "      <td>Broken Vessels (1998)</td>\n",
       "      <td>Drama</td>\n",
       "    </tr>\n",
       "    <tr>\n",
       "      <th>1000206</th>\n",
       "      <td>5780</td>\n",
       "      <td>2845</td>\n",
       "      <td>1</td>\n",
       "      <td>958153068</td>\n",
       "      <td>M</td>\n",
       "      <td>18</td>\n",
       "      <td>17</td>\n",
       "      <td>92886</td>\n",
       "      <td>White Boys (1999)</td>\n",
       "      <td>Drama</td>\n",
       "    </tr>\n",
       "    <tr>\n",
       "      <th>1000207</th>\n",
       "      <td>5851</td>\n",
       "      <td>3607</td>\n",
       "      <td>5</td>\n",
       "      <td>957756608</td>\n",
       "      <td>F</td>\n",
       "      <td>18</td>\n",
       "      <td>20</td>\n",
       "      <td>55410</td>\n",
       "      <td>One Little Indian (1973)</td>\n",
       "      <td>Comedy|Drama|Western</td>\n",
       "    </tr>\n",
       "    <tr>\n",
       "      <th>1000208</th>\n",
       "      <td>5938</td>\n",
       "      <td>2909</td>\n",
       "      <td>4</td>\n",
       "      <td>957273353</td>\n",
       "      <td>M</td>\n",
       "      <td>25</td>\n",
       "      <td>1</td>\n",
       "      <td>35401</td>\n",
       "      <td>Five Wives, Three Secretaries and Me (1998)</td>\n",
       "      <td>Documentary</td>\n",
       "    </tr>\n",
       "  </tbody>\n",
       "</table>\n",
       "<p>1000209 rows × 10 columns</p>\n",
       "</div>"
      ],
      "text/plain": [
       "         user_id  movie_id  rating   timestamp gender  age  occupation    zip  \\\n",
       "0              1      1193       5   978300760      F    1          10  48067   \n",
       "1              2      1193       5   978298413      M   56          16  70072   \n",
       "2             12      1193       4   978220179      M   25          12  32793   \n",
       "3             15      1193       4   978199279      M   25           7  22903   \n",
       "4             17      1193       5   978158471      M   50           1  95350   \n",
       "5             18      1193       4   978156168      F   18           3  95825   \n",
       "6             19      1193       5   982730936      M    1          10  48073   \n",
       "7             24      1193       5   978136709      F   25           7  10023   \n",
       "8             28      1193       3   978125194      F   25           1  14607   \n",
       "9             33      1193       5   978557765      M   45           3  55421   \n",
       "10            39      1193       5   978043535      M   18           4  61820   \n",
       "11            42      1193       3   978038981      M   25           8  24502   \n",
       "12            44      1193       4   978018995      M   45          17  98052   \n",
       "13            47      1193       4   977978345      M   18           4  94305   \n",
       "14            48      1193       4   977975061      M   25           4  92107   \n",
       "15            49      1193       4   978813972      M   18          12  77084   \n",
       "16            53      1193       5   977946400      M   25           0  96931   \n",
       "17            54      1193       5   977944039      M   50           1  56723   \n",
       "18            58      1193       5   977933866      M   25           2  30303   \n",
       "19            59      1193       4   977934292      F   50           1  55413   \n",
       "20            62      1193       4   977968584      F   35           3  98105   \n",
       "21            80      1193       4   977786172      M   56           1  49327   \n",
       "22            81      1193       5   977785864      F   25           0  60640   \n",
       "23            88      1193       5   977694161      F   45           1  02476   \n",
       "24            89      1193       5   977683596      F   56           9  85749   \n",
       "25            95      1193       5   977626632      M   45           0  98201   \n",
       "26            96      1193       3   977621789      F   25          16  78028   \n",
       "27            99      1193       2   982791053      F    1          10  19390   \n",
       "28           102      1193       5  1040737607      M   35          19  20871   \n",
       "29           104      1193       2   977546620      M   25          12  00926   \n",
       "...          ...       ...     ...         ...    ...  ...         ...    ...   \n",
       "1000179     4933      3084       3   962757020      M   25          15  94040   \n",
       "1000180     4802      2218       2  1014866656      M   56           1  40601   \n",
       "1000181     4812      2308       2   962932391      M   18          14  25301   \n",
       "1000182     4874       624       4   962781918      F   25           4  70808   \n",
       "1000183     5059      1434       4   962484364      M   45          16  22652   \n",
       "1000184     5947      1434       4   957190428      F   45          16  97215   \n",
       "1000185     5077      1868       3   962417299      M   25           2  20037   \n",
       "1000186     5944      1868       1   957197520      F   18          10  27606   \n",
       "1000187     5105       404       3   962337582      M   50           7  18977   \n",
       "1000188     5185       404       4   963402617      F   35           4  44485   \n",
       "1000189     5532       404       5   959619841      M   25          17  27408   \n",
       "1000190     5543       404       3   960127592      M   25          17  97401   \n",
       "1000191     5220      2543       3   961546137      M   25           7  91436   \n",
       "1000192     5754      2543       4   958272316      F   18           1  60640   \n",
       "1000193     5227       591       3   961475931      M   18          10  64050   \n",
       "1000194     5795       591       1   958145253      M   25           1  92688   \n",
       "1000195     5313      3656       5   960920392      M   56           0  55406   \n",
       "1000196     5328      2438       4   960838075      F   25           4  91740   \n",
       "1000197     5334      3323       3   960796159      F   56          13  46140   \n",
       "1000198     5334       127       1   960795494      F   56          13  46140   \n",
       "1000199     5334      3382       5   960796159      F   56          13  46140   \n",
       "1000200     5420      1843       3   960156505      F    1          19  14850   \n",
       "1000201     5433       286       3   960240881      F   35          17  45014   \n",
       "1000202     5494      3530       4   959816296      F   35          17  94306   \n",
       "1000203     5556      2198       3   959445515      M   45           6  92103   \n",
       "1000204     5949      2198       5   958846401      M   18          17  47901   \n",
       "1000205     5675      2703       3   976029116      M   35          14  30030   \n",
       "1000206     5780      2845       1   958153068      M   18          17  92886   \n",
       "1000207     5851      3607       5   957756608      F   18          20  55410   \n",
       "1000208     5938      2909       4   957273353      M   25           1  35401   \n",
       "\n",
       "                                                     title  \\\n",
       "0                   One Flew Over the Cuckoo's Nest (1975)   \n",
       "1                   One Flew Over the Cuckoo's Nest (1975)   \n",
       "2                   One Flew Over the Cuckoo's Nest (1975)   \n",
       "3                   One Flew Over the Cuckoo's Nest (1975)   \n",
       "4                   One Flew Over the Cuckoo's Nest (1975)   \n",
       "5                   One Flew Over the Cuckoo's Nest (1975)   \n",
       "6                   One Flew Over the Cuckoo's Nest (1975)   \n",
       "7                   One Flew Over the Cuckoo's Nest (1975)   \n",
       "8                   One Flew Over the Cuckoo's Nest (1975)   \n",
       "9                   One Flew Over the Cuckoo's Nest (1975)   \n",
       "10                  One Flew Over the Cuckoo's Nest (1975)   \n",
       "11                  One Flew Over the Cuckoo's Nest (1975)   \n",
       "12                  One Flew Over the Cuckoo's Nest (1975)   \n",
       "13                  One Flew Over the Cuckoo's Nest (1975)   \n",
       "14                  One Flew Over the Cuckoo's Nest (1975)   \n",
       "15                  One Flew Over the Cuckoo's Nest (1975)   \n",
       "16                  One Flew Over the Cuckoo's Nest (1975)   \n",
       "17                  One Flew Over the Cuckoo's Nest (1975)   \n",
       "18                  One Flew Over the Cuckoo's Nest (1975)   \n",
       "19                  One Flew Over the Cuckoo's Nest (1975)   \n",
       "20                  One Flew Over the Cuckoo's Nest (1975)   \n",
       "21                  One Flew Over the Cuckoo's Nest (1975)   \n",
       "22                  One Flew Over the Cuckoo's Nest (1975)   \n",
       "23                  One Flew Over the Cuckoo's Nest (1975)   \n",
       "24                  One Flew Over the Cuckoo's Nest (1975)   \n",
       "25                  One Flew Over the Cuckoo's Nest (1975)   \n",
       "26                  One Flew Over the Cuckoo's Nest (1975)   \n",
       "27                  One Flew Over the Cuckoo's Nest (1975)   \n",
       "28                  One Flew Over the Cuckoo's Nest (1975)   \n",
       "29                  One Flew Over the Cuckoo's Nest (1975)   \n",
       "...                                                    ...   \n",
       "1000179                                   Home Page (1999)   \n",
       "1000180                            Juno and Paycock (1930)   \n",
       "1000181                                Detroit 9000 (1973)   \n",
       "1000182                               Condition Red (1995)   \n",
       "1000183                               Stranger, The (1994)   \n",
       "1000184                               Stranger, The (1994)   \n",
       "1000185                                  Truce, The (1996)   \n",
       "1000186                                  Truce, The (1996)   \n",
       "1000187  Brother Minister: The Assassination of Malcolm...   \n",
       "1000188  Brother Minister: The Assassination of Malcolm...   \n",
       "1000189  Brother Minister: The Assassination of Malcolm...   \n",
       "1000190  Brother Minister: The Assassination of Malcolm...   \n",
       "1000191                          Six Ways to Sunday (1997)   \n",
       "1000192                          Six Ways to Sunday (1997)   \n",
       "1000193                            Tough and Deadly (1995)   \n",
       "1000194                            Tough and Deadly (1995)   \n",
       "1000195                                       Lured (1947)   \n",
       "1000196                               Outside Ozona (1998)   \n",
       "1000197                              Chain of Fools (2000)   \n",
       "1000198  Silence of the Palace, The (Saimt el Qusur) (1...   \n",
       "1000199                             Song of Freedom (1936)   \n",
       "1000200                     Slappy and the Stinkers (1998)   \n",
       "1000201                           Nemesis 2: Nebula (1995)   \n",
       "1000202                          Smoking/No Smoking (1993)   \n",
       "1000203                                 Modulations (1998)   \n",
       "1000204                                 Modulations (1998)   \n",
       "1000205                              Broken Vessels (1998)   \n",
       "1000206                                  White Boys (1999)   \n",
       "1000207                           One Little Indian (1973)   \n",
       "1000208        Five Wives, Three Secretaries and Me (1998)   \n",
       "\n",
       "                         genres  \n",
       "0                         Drama  \n",
       "1                         Drama  \n",
       "2                         Drama  \n",
       "3                         Drama  \n",
       "4                         Drama  \n",
       "5                         Drama  \n",
       "6                         Drama  \n",
       "7                         Drama  \n",
       "8                         Drama  \n",
       "9                         Drama  \n",
       "10                        Drama  \n",
       "11                        Drama  \n",
       "12                        Drama  \n",
       "13                        Drama  \n",
       "14                        Drama  \n",
       "15                        Drama  \n",
       "16                        Drama  \n",
       "17                        Drama  \n",
       "18                        Drama  \n",
       "19                        Drama  \n",
       "20                        Drama  \n",
       "21                        Drama  \n",
       "22                        Drama  \n",
       "23                        Drama  \n",
       "24                        Drama  \n",
       "25                        Drama  \n",
       "26                        Drama  \n",
       "27                        Drama  \n",
       "28                        Drama  \n",
       "29                        Drama  \n",
       "...                         ...  \n",
       "1000179             Documentary  \n",
       "1000180                   Drama  \n",
       "1000181            Action|Crime  \n",
       "1000182   Action|Drama|Thriller  \n",
       "1000183                  Action  \n",
       "1000184                  Action  \n",
       "1000185               Drama|War  \n",
       "1000186               Drama|War  \n",
       "1000187             Documentary  \n",
       "1000188             Documentary  \n",
       "1000189             Documentary  \n",
       "1000190             Documentary  \n",
       "1000191                  Comedy  \n",
       "1000192                  Comedy  \n",
       "1000193   Action|Drama|Thriller  \n",
       "1000194   Action|Drama|Thriller  \n",
       "1000195                   Crime  \n",
       "1000196          Drama|Thriller  \n",
       "1000197            Comedy|Crime  \n",
       "1000198                   Drama  \n",
       "1000199                   Drama  \n",
       "1000200       Children's|Comedy  \n",
       "1000201  Action|Sci-Fi|Thriller  \n",
       "1000202                  Comedy  \n",
       "1000203             Documentary  \n",
       "1000204             Documentary  \n",
       "1000205                   Drama  \n",
       "1000206                   Drama  \n",
       "1000207    Comedy|Drama|Western  \n",
       "1000208             Documentary  \n",
       "\n",
       "[1000209 rows x 10 columns]"
      ]
     },
     "execution_count": 96,
     "metadata": {},
     "output_type": "execute_result"
    }
   ],
   "source": [
    "data"
   ]
  },
  {
   "cell_type": "code",
   "execution_count": 97,
   "metadata": {
    "collapsed": false
   },
   "outputs": [
    {
     "data": {
      "text/plain": [
       "'Payback (1999)'"
      ]
     },
     "execution_count": 97,
     "metadata": {},
     "output_type": "execute_result"
    }
   ],
   "source": [
    "data['title'][100000]"
   ]
  },
  {
   "cell_type": "code",
   "execution_count": 98,
   "metadata": {
    "collapsed": false
   },
   "outputs": [],
   "source": [
    "X=data.pivot_table('rating',index='timestamp',aggfunc='count')"
   ]
  },
  {
   "cell_type": "code",
   "execution_count": 99,
   "metadata": {
    "collapsed": false
   },
   "outputs": [
    {
     "data": {
      "text/plain": [
       "<matplotlib.axes._subplots.AxesSubplot at 0x22450978>"
      ]
     },
     "execution_count": 99,
     "metadata": {},
     "output_type": "execute_result"
    },
    {
     "data": {
      "image/png": "[encoded data removed]",
      "text/plain": [
       "<matplotlib.figure.Figure at 0x222cc4a8>"
      ]
     },
     "metadata": {},
     "output_type": "display_data"
    }
   ],
   "source": [
    "X.plot()"
   ]
  },
  {
   "cell_type": "code",
   "execution_count": 100,
   "metadata": {
    "collapsed": false
   },
   "outputs": [],
   "source": [
    "# Warning: Some versions of Pandas use \"index\" and \"columns\", some use \"rows\" and \"cols\"\n",
    "X=data.pivot_table('rating',index='title',aggfunc='sum')\n",
    "#X=data.pivot_table('rating',rows='title',aggfunc='sum')"
   ]
  },
  {
   "cell_type": "code",
   "execution_count": 101,
   "metadata": {
    "collapsed": true
   },
   "outputs": [
    {
     "data": {
      "text/plain": [
       "title\n",
       "$1,000,000 Duck (1971)                             112\n",
       "'Night Mother (1986)                               236\n",
       "'Til There Was You (1997)                          140\n",
       "'burbs, The (1989)                                 882\n",
       "...And Justice for All (1979)                      739\n",
       "1-900 (1994)                                         5\n",
       "10 Things I Hate About You (1999)                 2396\n",
       "101 Dalmatians (1961)                             2032\n",
       "101 Dalmatians (1996)                             1109\n",
       "12 Angry Men (1957)                               2646\n",
       "13th Warrior, The (1999)                          2369\n",
       "187 (1997)                                         151\n",
       "2 Days in the Valley (1996)                        939\n",
       "20 Dates (1998)                                    397\n",
       "20,000 Leagues Under the Sea (1954)               2129\n",
       "200 Cigarettes (1999)                              522\n",
       "2001: A Space Odyssey (1968)                      6982\n",
       "2010 (1984)                                       1606\n",
       "24 7: Twenty Four Seven (1997)                      20\n",
       "24-hour Woman (1998)                                16\n",
       "28 Days (2000)                                    1548\n",
       "3 Ninjas: High Noon On Mega Mountain (1998)         64\n",
       "3 Strikes (2000)                                    11\n",
       "301, 302 (1995)                                     26\n",
       "39 Steps, The (1935)                              1031\n",
       "400 Blows, The (Les Quatre cents coups) (1959)     808\n",
       "42 Up (1998)                                       372\n",
       "52 Pick-Up (1986)                                  462\n",
       "54 (1998)                                          716\n",
       "7th Voyage of Sinbad, The (1958)                   933\n",
       "                                                  ... \n",
       "Wrongfully Accused (1998)                          314\n",
       "Wyatt Earp (1994)                                  882\n",
       "X-Files: Fight the Future, The (1998)             3479\n",
       "X-Men (2000)                                      5773\n",
       "X: The Unknown (1956)                               34\n",
       "Xiu Xiu: The Sent-Down Girl (Tian yu) (1998)       252\n",
       "Yankee Zulu (1994)                                   6\n",
       "Yards, The (1999)                                  248\n",
       "Year My Voice Broke, The (1987)                    103\n",
       "Year of Living Dangerously (1982)                 1523\n",
       "Year of the Horse (1997)                            13\n",
       "Yellow Submarine (1968)                           1475\n",
       "Yojimbo (1961)                                     947\n",
       "You Can't Take It With You (1938)                  309\n",
       "You So Crazy (1994)                                 34\n",
       "You've Got Mail (1998)                            2833\n",
       "Young Doctors in Love (1982)                       206\n",
       "Young Frankenstein (1974)                         5071\n",
       "Young Guns (1988)                                 1921\n",
       "Young Guns II (1990)                              1073\n",
       "Young Poisoner's Handbook, The (1995)              287\n",
       "Young Sherlock Holmes (1985)                      1285\n",
       "Young and Innocent (1937)                           33\n",
       "Your Friends and Neighbors (1998)                  368\n",
       "Zachariah (1971)                                     7\n",
       "Zed & Two Noughts, A (1985)                         99\n",
       "Zero Effect (1998)                                1129\n",
       "Zero Kelvin (Kj�rlighetens kj�tere) (1995)           7\n",
       "Zeus and Roxanne (1997)                             58\n",
       "eXistenZ (1999)                                   1335\n",
       "Name: rating, dtype: int64"
      ]
     },
     "execution_count": 101,
     "metadata": {},
     "output_type": "execute_result"
    }
   ],
   "source": [
    "X"
   ]
  },
  {
   "cell_type": "code",
   "execution_count": 102,
   "metadata": {
    "collapsed": false
   },
   "outputs": [
    {
     "data": {
      "text/plain": [
       "<matplotlib.axes._subplots.AxesSubplot at 0x222cc390>"
      ]
     },
     "execution_count": 102,
     "metadata": {},
     "output_type": "execute_result"
    },
    {
     "data": {
      "image/png": "[encoded data removed]",
      "text/plain": [
       "<matplotlib.figure.Figure at 0x21dfb748>"
      ]
     },
     "metadata": {},
     "output_type": "display_data"
    }
   ],
   "source": [
    "X.hist()"
   ]
  },
  {
   "cell_type": "code",
   "execution_count": 103,
   "metadata": {
    "collapsed": false
   },
   "outputs": [],
   "source": [
    "# Warning: Some versions of Pandas use \"index\" and \"columns\", some use \"rows\" and \"cols\"\n",
    "X=data.pivot_table('rating',index='occupation',aggfunc='sum')\n",
    "#X=data.pivot_table('rating',rows='occupation',aggfunc='sum')"
   ]
  },
  {
   "cell_type": "code",
   "execution_count": 104,
   "metadata": {
    "collapsed": false,
    "scrolled": true
   },
   "outputs": [
    {
     "data": {
      "text/plain": [
       "occupation\n",
       "0     461646\n",
       "1     305270\n",
       "2     178897\n",
       "3     115630\n",
       "4     463433\n",
       "5      77295\n",
       "6     136229\n",
       "7     379506\n",
       "8       9381\n",
       "9      41484\n",
       "10     82276\n",
       "11     74384\n",
       "12    209060\n",
       "13     52014\n",
       "14    177700\n",
       "15     84684\n",
       "16    165518\n",
       "17    263126\n",
       "18     42665\n",
       "19     50883\n",
       "20    211232\n",
       "Name: rating, dtype: int64"
      ]
     },
     "execution_count": 104,
     "metadata": {},
     "output_type": "execute_result"
    }
   ],
   "source": [
    "X"
   ]
  },
  {
   "cell_type": "markdown",
   "metadata": {},
   "source": [
    "## Central limit theorem"
   ]
  },
  {
   "cell_type": "markdown",
   "metadata": {},
   "source": [
    "Here we show an example of the central limit theorem.  You can play around with \"numberOfDistributions\" and \"numberOfSamples\" to see how quickly this converges to something that looks Gaussian."
   ]
  },
  {
   "cell_type": "code",
   "execution_count": 113,
   "metadata": {
    "collapsed": false
   },
   "outputs": [],
   "source": [
    "numberOfDistributions = 100\n",
    "numberOfSamples = 1000\n",
    "XTest = st.uniform(loc=0,scale=1);\n",
    "# The same thing works with many distributions.\n",
    "#XTest = st.lognorm(s=1.0);\n",
    "XCLT=np.zeros([numberOfSamples])\n",
    "for i in range(numberOfSamples):\n",
    "    for j in range(numberOfDistributions):\n",
    "        XCLT[i] += XTest.rvs()\n",
    "    XCLT[i] = XCLT[i]/numberOfDistributions"
   ]
  },
  {
   "cell_type": "code",
   "execution_count": 114,
   "metadata": {
    "collapsed": false
   },
   "outputs": [
    {
     "data": {
      "text/plain": [
       "(array([  0.27,   1.17,   3.61,   8.61,  12.39,  13.4 ,   9.04,   3.35,\n",
       "          0.96,   0.37]),\n",
       " array([ 0.41,  0.43,  0.44,  0.46,  0.48,  0.5 ,  0.52,  0.54,  0.56,\n",
       "         0.58,  0.6 ]),\n",
       " <a list of 10 Patch objects>)"
      ]
     },
     "execution_count": 114,
     "metadata": {},
     "output_type": "execute_result"
    },
    {
     "data": {
      "image/png": "[encoded data removed]",
      "text/plain": [
       "<matplotlib.figure.Figure at 0x2bda7128>"
      ]
     },
     "metadata": {},
     "output_type": "display_data"
    }
   ],
   "source": [
    "py.hist(XCLT,normed=True)"
   ]
  },
  {
   "cell_type": "markdown",
   "metadata": {},
   "source": [
    "# Linear Algebra"
   ]
  },
  {
   "cell_type": "markdown",
   "metadata": {},
   "source": [
    "Some basic ideas in Linear Algebra and how you can use them in Python."
   ]
  },
  {
   "cell_type": "code",
   "execution_count": 115,
   "metadata": {
    "collapsed": false
   },
   "outputs": [],
   "source": [
    "import numpy as np"
   ]
  },
  {
   "cell_type": "code",
   "execution_count": 116,
   "metadata": {
    "collapsed": false
   },
   "outputs": [
    {
     "data": {
      "text/plain": [
       "array([1, 2, 3])"
      ]
     },
     "execution_count": 116,
     "metadata": {},
     "output_type": "execute_result"
    }
   ],
   "source": [
    "a=np.array([1,2,3])\n",
    "a"
   ]
  },
  {
   "cell_type": "code",
   "execution_count": 117,
   "metadata": {
    "collapsed": false
   },
   "outputs": [
    {
     "data": {
      "text/plain": [
       "matrix([[9, 1, 1],\n",
       "        [7, 4, 9],\n",
       "        [5, 4, 1]])"
      ]
     },
     "execution_count": 117,
     "metadata": {},
     "output_type": "execute_result"
    }
   ],
   "source": [
    "A=np.matrix(np.random.randint(1,10,size=[3,3]))\n",
    "A"
   ]
  },
  {
   "cell_type": "code",
   "execution_count": 118,
   "metadata": {
    "collapsed": false
   },
   "outputs": [
    {
     "name": "stdout",
     "output_type": "stream",
     "text": [
      "[[1]\n",
      " [2]\n",
      " [3]]\n",
      "[[1 2 3]]\n"
     ]
    }
   ],
   "source": [
    "x=np.matrix([[1],[2],[3]])\n",
    "print x\n",
    "print x.T"
   ]
  },
  {
   "cell_type": "code",
   "execution_count": 119,
   "metadata": {
    "collapsed": false
   },
   "outputs": [
    {
     "data": {
      "text/plain": [
       "array([1, 4, 9])"
      ]
     },
     "execution_count": 119,
     "metadata": {},
     "output_type": "execute_result"
    }
   ],
   "source": [
    "a*a"
   ]
  },
  {
   "cell_type": "code",
   "execution_count": 120,
   "metadata": {
    "collapsed": false
   },
   "outputs": [
    {
     "data": {
      "text/plain": [
       "14"
      ]
     },
     "execution_count": 120,
     "metadata": {},
     "output_type": "execute_result"
    }
   ],
   "source": [
    "np.dot(a,a)"
   ]
  },
  {
   "cell_type": "code",
   "execution_count": 123,
   "metadata": {
    "collapsed": false
   },
   "outputs": [
    {
     "data": {
      "text/plain": [
       "matrix([[14]])"
      ]
     },
     "execution_count": 123,
     "metadata": {},
     "output_type": "execute_result"
    }
   ],
   "source": [
    "x.T*x"
   ]
  },
  {
   "cell_type": "code",
   "execution_count": 124,
   "metadata": {
    "collapsed": false
   },
   "outputs": [
    {
     "data": {
      "text/plain": [
       "matrix([[14],\n",
       "        [42],\n",
       "        [16]])"
      ]
     },
     "execution_count": 124,
     "metadata": {},
     "output_type": "execute_result"
    }
   ],
   "source": [
    "A*x"
   ]
  },
  {
   "cell_type": "code",
   "execution_count": 125,
   "metadata": {
    "collapsed": false
   },
   "outputs": [
    {
     "data": {
      "text/plain": [
       "matrix([[5],\n",
       "        [6],\n",
       "        [7]])"
      ]
     },
     "execution_count": 125,
     "metadata": {},
     "output_type": "execute_result"
    }
   ],
   "source": [
    "b = np.matrix([[5],[6],[7]])\n",
    "b"
   ]
  },
  {
   "cell_type": "code",
   "execution_count": 126,
   "metadata": {
    "collapsed": false
   },
   "outputs": [
    {
     "name": "stdout",
     "output_type": "stream",
     "text": [
      "[[9 1 1]\n",
      " [7 4 9]\n",
      " [5 4 1]]\n",
      "[[ 0.13 -0.01 -0.02]\n",
      " [-0.16 -0.02  0.31]\n",
      " [-0.03  0.13 -0.12]]\n"
     ]
    }
   ],
   "source": [
    "Ai = np.linalg.inv(A)\n",
    "print A\n",
    "print Ai"
   ]
  },
  {
   "cell_type": "code",
   "execution_count": 127,
   "metadata": {
    "collapsed": false
   },
   "outputs": [
    {
     "data": {
      "text/plain": [
       "matrix([[  1.00e+00,   0.00e+00,  -1.39e-17],\n",
       "        [ -1.11e-16,   1.00e+00,  -2.22e-16],\n",
       "        [ -9.71e-17,   0.00e+00,   1.00e+00]])"
      ]
     },
     "execution_count": 127,
     "metadata": {},
     "output_type": "execute_result"
    }
   ],
   "source": [
    "A*Ai"
   ]
  },
  {
   "cell_type": "code",
   "execution_count": 129,
   "metadata": {
    "collapsed": false
   },
   "outputs": [
    {
     "data": {
      "text/plain": [
       "matrix([[  1.00e+00,  -2.78e-17,  -4.16e-17],\n",
       "        [  0.00e+00,   1.00e+00,   0.00e+00],\n",
       "        [  2.22e-16,   5.55e-17,   1.00e+00]])"
      ]
     },
     "execution_count": 129,
     "metadata": {},
     "output_type": "execute_result"
    }
   ],
   "source": [
    "Ai*A"
   ]
  },
  {
   "cell_type": "code",
   "execution_count": 130,
   "metadata": {
    "collapsed": false
   },
   "outputs": [
    {
     "data": {
      "text/plain": [
       "matrix([[ 0.44],\n",
       "        [ 1.26],\n",
       "        [-0.24]])"
      ]
     },
     "execution_count": 130,
     "metadata": {},
     "output_type": "execute_result"
    }
   ],
   "source": [
    "xHat = Ai*b\n",
    "xHat"
   ]
  },
  {
   "cell_type": "code",
   "execution_count": 131,
   "metadata": {
    "collapsed": false
   },
   "outputs": [
    {
     "name": "stdout",
     "output_type": "stream",
     "text": [
      "[[ 5.]\n",
      " [ 6.]\n",
      " [ 7.]]\n",
      "[[5]\n",
      " [6]\n",
      " [7]]\n"
     ]
    }
   ],
   "source": [
    "print A*xHat\n",
    "print b"
   ]
  },
  {
   "cell_type": "markdown",
   "metadata": {},
   "source": [
    "## But matrix inversion can be very expensive."
   ]
  },
  {
   "cell_type": "code",
   "execution_count": 133,
   "metadata": {
    "collapsed": false
   },
   "outputs": [
    {
     "name": "stdout",
     "output_type": "stream",
     "text": [
      "1000 loops, best of 3: 318 µs per loop\n",
      "100 loops, best of 3: 5.03 ms per loop\n",
      "100 loops, best of 3: 20.2 ms per loop\n",
      "10 loops, best of 3: 54.6 ms per loop\n",
      "10 loops, best of 3: 95.7 ms per loop\n"
     ]
    },
    {
     "data": {
      "text/plain": [
       "[<matplotlib.lines.Line2D at 0x299154a8>]"
      ]
     },
     "execution_count": 133,
     "metadata": {},
     "output_type": "execute_result"
    },
    {
     "data": {
      "image/png": "[encoded data removed]",
      "text/plain": [
       "<matplotlib.figure.Figure at 0x2be87c18>"
      ]
     },
     "metadata": {},
     "output_type": "display_data"
    }
   ],
   "source": [
    "sizes = range(100,1000,200)\n",
    "times = np.zeros(len(sizes))\n",
    "for i in range(len(sizes)):\n",
    "    A = np.random.random(size=[sizes[i],sizes[i]])\n",
    "    x = %timeit -o np.linalg.inv(A)\n",
    "    times[i] = x.best\n",
    "py.plot(sizes,times)"
   ]
  },
  {
   "cell_type": "markdown",
   "metadata": {},
   "source": [
    "## Something slightly more advanced:  Sparse matrices."
   ]
  },
  {
   "cell_type": "markdown",
   "metadata": {},
   "source": [
    "Sparse matrices (those with lots of 0s) can often be worked with much more efficiently than general matrices than standard methods."
   ]
  },
  {
   "cell_type": "code",
   "execution_count": 134,
   "metadata": {
    "collapsed": false
   },
   "outputs": [],
   "source": [
    "from scipy.sparse.linalg import spsolve\n",
    "from scipy.sparse import rand,eye\n",
    "mySize = 1000\n",
    "A=rand(mySize,mySize,0.001)+eye(mySize)\n",
    "b=np.random.random(size=[mySize])"
   ]
  },
  {
   "cell_type": "markdown",
   "metadata": {},
   "source": [
    "The sparsity structure of A."
   ]
  },
  {
   "cell_type": "code",
   "execution_count": 135,
   "metadata": {
    "collapsed": false
   },
   "outputs": [
    {
     "data": {
      "text/plain": [
       "<matplotlib.lines.Line2D at 0x2bd77e48>"
      ]
     },
     "execution_count": 135,
     "metadata": {},
     "output_type": "execute_result"
    },
    {
     "data": {
      "image/png": "[encoded data removed]",
      "text/plain": [
       "<matplotlib.figure.Figure at 0x29633048>"
      ]
     },
     "metadata": {},
     "output_type": "display_data"
    }
   ],
   "source": [
    "py.spy(A,markersize=0.1)"
   ]
  },
  {
   "cell_type": "code",
   "execution_count": 136,
   "metadata": {
    "collapsed": false
   },
   "outputs": [
    {
     "name": "stdout",
     "output_type": "stream",
     "text": [
      "10 loops, best of 3: 33.1 ms per loop\n"
     ]
    }
   ],
   "source": [
    "dense = %timeit -o np.linalg.solve(A.todense(),b)"
   ]
  },
  {
   "cell_type": "code",
   "execution_count": 137,
   "metadata": {
    "collapsed": false
   },
   "outputs": [
    {
     "name": "stdout",
     "output_type": "stream",
     "text": [
      "1000 loops, best of 3: 891 µs per loop\n"
     ]
    }
   ],
   "source": [
    "sparse = %timeit -o spsolve(A,b)"
   ]
  },
  {
   "cell_type": "code",
   "execution_count": 138,
   "metadata": {
    "collapsed": false
   },
   "outputs": [
    {
     "data": {
      "text/plain": [
       "37.20507748743233"
      ]
     },
     "execution_count": 138,
     "metadata": {},
     "output_type": "execute_result"
    }
   ],
   "source": [
    "dense.best/sparse.best"
   ]
  },
  {
   "cell_type": "markdown",
   "metadata": {},
   "source": [
    "# Descriptive statistics"
   ]
  },
  {
   "cell_type": "markdown",
   "metadata": {},
   "source": [
    "Pandas provides many routines for computing statistics."
   ]
  },
  {
   "cell_type": "code",
   "execution_count": 46,
   "metadata": {
    "collapsed": false
   },
   "outputs": [
    {
     "name": "stdout",
     "output_type": "stream",
     "text": [
      "0.698449016867\n",
      "2.00010812778\n",
      "4.0004325228\n"
     ]
    }
   ],
   "source": [
    "XNormal=st.norm(loc=0.7,scale=2);\n",
    "x = XNormal.rvs(1000000)\n",
    "print np.mean(x)\n",
    "print np.std(x)\n",
    "print np.var(x)"
   ]
  },
  {
   "cell_type": "markdown",
   "metadata": {},
   "source": [
    "But empirical measures are not always good approximations of the true properties of the distribution."
   ]
  },
  {
   "cell_type": "code",
   "execution_count": 47,
   "metadata": {
    "collapsed": false
   },
   "outputs": [
    {
     "data": {
      "image/png": "[encoded data removed]",
      "text/plain": [
       "<matplotlib.figure.Figure at 0x2355d8d0>"
      ]
     },
     "metadata": {},
     "output_type": "display_data"
    }
   ],
   "source": [
    "sizes = np.arange(16)+1\n",
    "errors = np.zeros(16)\n",
    "for i in range(16):\n",
    "    x = XNormal.rvs(2**i)\n",
    "    errors[i] = np.abs(0.7-np.mean(x))\n",
    "py.plot(sizes,errors)\n",
    "py.plot(sizes,2/np.sqrt(sizes))\n",
    "py.plot(sizes,2*2/np.sqrt(sizes),'r')\n",
    "py.savefig('Figures/errorInMean.png')"
   ]
  },
  {
   "cell_type": "markdown",
   "metadata": {},
   "source": [
    "# Playing around with data"
   ]
  },
  {
   "cell_type": "code",
   "execution_count": 48,
   "metadata": {
    "collapsed": false
   },
   "outputs": [],
   "source": [
    "data.pivot_table?"
   ]
  },
  {
   "cell_type": "code",
   "execution_count": 49,
   "metadata": {
    "collapsed": false
   },
   "outputs": [],
   "source": [
    "X=data.pivot_table('rating',index='title',aggfunc='mean')\n",
    "#X=data.pivot_table('rating',rows='title',aggfunc='mean')"
   ]
  },
  {
   "cell_type": "code",
   "execution_count": 50,
   "metadata": {
    "collapsed": false
   },
   "outputs": [],
   "source": [
    "hist(X)"
   ]
  },
  {
   "cell_type": "code",
   "execution_count": 51,
   "metadata": {
    "collapsed": false
   },
   "outputs": [],
   "source": [
    "X=data.pivot_table('rating',index='title',columns='gender',aggfunc='mean')\n",
    "#X=data.pivot_table('rating',rows='title',cols='gender',aggfunc='mean')"
   ]
  },
  {
   "cell_type": "code",
   "execution_count": 52,
   "metadata": {
    "collapsed": false
   },
   "outputs": [
    {
     "data": {
      "text/plain": [
       "<matplotlib.axes._subplots.AxesSubplot at 0x10a060b8>"
      ]
     },
     "execution_count": 52,
     "metadata": {},
     "output_type": "execute_result"
    },
    {
     "data": {
      "image/png": "[encoded data removed]",
      "text/plain": [
       "<matplotlib.figure.Figure at 0x3c38a58>"
      ]
     },
     "metadata": {},
     "output_type": "display_data"
    }
   ],
   "source": [
    "py.subplot(1,2,1)\n",
    "X['M'].hist()\n",
    "py.subplot(1,2,2)\n",
    "X['F'].hist()"
   ]
  },
  {
   "cell_type": "code",
   "execution_count": 53,
   "metadata": {
    "collapsed": false
   },
   "outputs": [
    {
     "data": {
      "text/plain": [
       "[<matplotlib.lines.Line2D at 0x218b8c18>]"
      ]
     },
     "execution_count": 53,
     "metadata": {},
     "output_type": "execute_result"
    },
    {
     "data": {
      "image/png": "[encoded data removed]",
      "text/plain": [
       "<matplotlib.figure.Figure at 0x1088ada0>"
      ]
     },
     "metadata": {},
     "output_type": "display_data"
    }
   ],
   "source": [
    "py.plot(X['M'],X['F'],'.')"
   ]
  },
  {
   "cell_type": "code",
   "execution_count": 54,
   "metadata": {
    "collapsed": false
   },
   "outputs": [
    {
     "data": {
      "text/html": [
       "<div>\n",
       "<table border=\"1\" class=\"dataframe\">\n",
       "  <thead>\n",
       "    <tr style=\"text-align: right;\">\n",
       "      <th>gender</th>\n",
       "      <th>F</th>\n",
       "      <th>M</th>\n",
       "    </tr>\n",
       "    <tr>\n",
       "      <th>gender</th>\n",
       "      <th></th>\n",
       "      <th></th>\n",
       "    </tr>\n",
       "  </thead>\n",
       "  <tbody>\n",
       "    <tr>\n",
       "      <th>F</th>\n",
       "      <td>0.510240</td>\n",
       "      <td>0.351683</td>\n",
       "    </tr>\n",
       "    <tr>\n",
       "      <th>M</th>\n",
       "      <td>0.351683</td>\n",
       "      <td>0.470851</td>\n",
       "    </tr>\n",
       "  </tbody>\n",
       "</table>\n",
       "</div>"
      ],
      "text/plain": [
       "gender         F         M\n",
       "gender                    \n",
       "F       0.510240  0.351683\n",
       "M       0.351683  0.470851"
      ]
     },
     "execution_count": 54,
     "metadata": {},
     "output_type": "execute_result"
    }
   ],
   "source": [
    "X.cov()"
   ]
  },
  {
   "cell_type": "code",
   "execution_count": 55,
   "metadata": {
    "collapsed": false
   },
   "outputs": [
    {
     "data": {
      "text/html": [
       "<div>\n",
       "<table border=\"1\" class=\"dataframe\">\n",
       "  <thead>\n",
       "    <tr style=\"text-align: right;\">\n",
       "      <th>gender</th>\n",
       "      <th>F</th>\n",
       "      <th>M</th>\n",
       "    </tr>\n",
       "    <tr>\n",
       "      <th>gender</th>\n",
       "      <th></th>\n",
       "      <th></th>\n",
       "    </tr>\n",
       "  </thead>\n",
       "  <tbody>\n",
       "    <tr>\n",
       "      <th>F</th>\n",
       "      <td>1.00000</td>\n",
       "      <td>0.76319</td>\n",
       "    </tr>\n",
       "    <tr>\n",
       "      <th>M</th>\n",
       "      <td>0.76319</td>\n",
       "      <td>1.00000</td>\n",
       "    </tr>\n",
       "  </tbody>\n",
       "</table>\n",
       "</div>"
      ],
      "text/plain": [
       "gender        F        M\n",
       "gender                  \n",
       "F       1.00000  0.76319\n",
       "M       0.76319  1.00000"
      ]
     },
     "execution_count": 55,
     "metadata": {},
     "output_type": "execute_result"
    }
   ],
   "source": [
    "X.corr()"
   ]
  },
  {
   "cell_type": "code",
   "execution_count": 56,
   "metadata": {
    "collapsed": false
   },
   "outputs": [],
   "source": [
    "X=data.pivot_table('rating',index='occupation',columns='gender',aggfunc='mean')\n",
    "#X=data.pivot_table('rating',rows='occupation',cols='gender',aggfunc='mean')"
   ]
  },
  {
   "cell_type": "code",
   "execution_count": 57,
   "metadata": {
    "collapsed": false,
    "scrolled": true
   },
   "outputs": [
    {
     "data": {
      "text/html": [
       "<div>\n",
       "<table border=\"1\" class=\"dataframe\">\n",
       "  <thead>\n",
       "    <tr style=\"text-align: right;\">\n",
       "      <th>gender</th>\n",
       "      <th>F</th>\n",
       "      <th>M</th>\n",
       "    </tr>\n",
       "    <tr>\n",
       "      <th>occupation</th>\n",
       "      <th></th>\n",
       "      <th></th>\n",
       "    </tr>\n",
       "  </thead>\n",
       "  <tbody>\n",
       "    <tr>\n",
       "      <th>0</th>\n",
       "      <td>3.686842</td>\n",
       "      <td>3.487125</td>\n",
       "    </tr>\n",
       "    <tr>\n",
       "      <th>1</th>\n",
       "      <td>3.584606</td>\n",
       "      <td>3.571737</td>\n",
       "    </tr>\n",
       "    <tr>\n",
       "      <th>2</th>\n",
       "      <td>3.555888</td>\n",
       "      <td>3.581192</td>\n",
       "    </tr>\n",
       "    <tr>\n",
       "      <th>3</th>\n",
       "      <td>3.687679</td>\n",
       "      <td>3.630709</td>\n",
       "    </tr>\n",
       "    <tr>\n",
       "      <th>4</th>\n",
       "      <td>3.547252</td>\n",
       "      <td>3.533348</td>\n",
       "    </tr>\n",
       "    <tr>\n",
       "      <th>5</th>\n",
       "      <td>3.584891</td>\n",
       "      <td>3.527222</td>\n",
       "    </tr>\n",
       "    <tr>\n",
       "      <th>6</th>\n",
       "      <td>3.690834</td>\n",
       "      <td>3.641861</td>\n",
       "    </tr>\n",
       "    <tr>\n",
       "      <th>7</th>\n",
       "      <td>3.668559</td>\n",
       "      <td>3.585641</td>\n",
       "    </tr>\n",
       "    <tr>\n",
       "      <th>8</th>\n",
       "      <td>3.363208</td>\n",
       "      <td>3.498551</td>\n",
       "    </tr>\n",
       "    <tr>\n",
       "      <th>9</th>\n",
       "      <td>3.668467</td>\n",
       "      <td>3.498104</td>\n",
       "    </tr>\n",
       "    <tr>\n",
       "      <th>10</th>\n",
       "      <td>3.572390</td>\n",
       "      <td>3.515668</td>\n",
       "    </tr>\n",
       "    <tr>\n",
       "      <th>11</th>\n",
       "      <td>3.796822</td>\n",
       "      <td>3.590904</td>\n",
       "    </tr>\n",
       "    <tr>\n",
       "      <th>12</th>\n",
       "      <td>3.677102</td>\n",
       "      <td>3.650883</td>\n",
       "    </tr>\n",
       "    <tr>\n",
       "      <th>13</th>\n",
       "      <td>3.903894</td>\n",
       "      <td>3.750525</td>\n",
       "    </tr>\n",
       "    <tr>\n",
       "      <th>14</th>\n",
       "      <td>3.583702</td>\n",
       "      <td>3.629714</td>\n",
       "    </tr>\n",
       "    <tr>\n",
       "      <th>15</th>\n",
       "      <td>3.796093</td>\n",
       "      <td>3.665973</td>\n",
       "    </tr>\n",
       "    <tr>\n",
       "      <th>16</th>\n",
       "      <td>3.655868</td>\n",
       "      <td>3.585143</td>\n",
       "    </tr>\n",
       "    <tr>\n",
       "      <th>17</th>\n",
       "      <td>3.649366</td>\n",
       "      <td>3.609373</td>\n",
       "    </tr>\n",
       "    <tr>\n",
       "      <th>18</th>\n",
       "      <td>4.108696</td>\n",
       "      <td>3.509596</td>\n",
       "    </tr>\n",
       "    <tr>\n",
       "      <th>19</th>\n",
       "      <td>3.445724</td>\n",
       "      <td>3.404427</td>\n",
       "    </tr>\n",
       "    <tr>\n",
       "      <th>20</th>\n",
       "      <td>3.467402</td>\n",
       "      <td>3.507918</td>\n",
       "    </tr>\n",
       "  </tbody>\n",
       "</table>\n",
       "</div>"
      ],
      "text/plain": [
       "gender             F         M\n",
       "occupation                    \n",
       "0           3.686842  3.487125\n",
       "1           3.584606  3.571737\n",
       "2           3.555888  3.581192\n",
       "3           3.687679  3.630709\n",
       "4           3.547252  3.533348\n",
       "5           3.584891  3.527222\n",
       "6           3.690834  3.641861\n",
       "7           3.668559  3.585641\n",
       "8           3.363208  3.498551\n",
       "9           3.668467  3.498104\n",
       "10          3.572390  3.515668\n",
       "11          3.796822  3.590904\n",
       "12          3.677102  3.650883\n",
       "13          3.903894  3.750525\n",
       "14          3.583702  3.629714\n",
       "15          3.796093  3.665973\n",
       "16          3.655868  3.585143\n",
       "17          3.649366  3.609373\n",
       "18          4.108696  3.509596\n",
       "19          3.445724  3.404427\n",
       "20          3.467402  3.507918"
      ]
     },
     "execution_count": 57,
     "metadata": {},
     "output_type": "execute_result"
    }
   ],
   "source": [
    "X"
   ]
  },
  {
   "cell_type": "code",
   "execution_count": null,
   "metadata": {
    "collapsed": true
   },
   "outputs": [],
   "source": []
  }
 ],
 "metadata": {
  "kernelspec": {
   "display_name": "Python 2",
   "language": "python",
   "name": "python2"
  },
  "language_info": {
   "codemirror_mode": {
    "name": "ipython",
    "version": 2
   },
   "file_extension": ".py",
   "mimetype": "text/x-python",
   "name": "python",
   "nbconvert_exporter": "python",
   "pygments_lexer": "ipython2",
   "version": "2.7.10"
  }
 },
 "nbformat": 4,
 "nbformat_minor": 0
}
